{
  "nbformat": 4,
  "nbformat_minor": 0,
  "metadata": {
    "colab": {
      "provenance": []
    },
    "kernelspec": {
      "name": "python3",
      "display_name": "Python 3"
    },
    "language_info": {
      "name": "python"
    }
  },
  "cells": [
    {
      "cell_type": "code",
      "source": [
        "!pip install yfinance\n",
        "!pip install backtrader"
      ],
      "metadata": {
        "colab": {
          "base_uri": "https://localhost:8080/"
        },
        "id": "nJqZ-7WjhoJy",
        "outputId": "9888190f-e5a8-42bd-cd03-57b94f38fc56"
      },
      "execution_count": 1,
      "outputs": [
        {
          "output_type": "stream",
          "name": "stdout",
          "text": [
            "Looking in indexes: https://pypi.org/simple, https://us-python.pkg.dev/colab-wheels/public/simple/\n",
            "Requirement already satisfied: yfinance in /usr/local/lib/python3.9/dist-packages (0.2.17)\n",
            "Requirement already satisfied: requests>=2.26 in /usr/local/lib/python3.9/dist-packages (from yfinance) (2.27.1)\n",
            "Requirement already satisfied: lxml>=4.9.1 in /usr/local/lib/python3.9/dist-packages (from yfinance) (4.9.2)\n",
            "Requirement already satisfied: numpy>=1.16.5 in /usr/local/lib/python3.9/dist-packages (from yfinance) (1.22.4)\n",
            "Requirement already satisfied: pytz>=2022.5 in /usr/local/lib/python3.9/dist-packages (from yfinance) (2022.7.1)\n",
            "Requirement already satisfied: frozendict>=2.3.4 in /usr/local/lib/python3.9/dist-packages (from yfinance) (2.3.7)\n",
            "Requirement already satisfied: html5lib>=1.1 in /usr/local/lib/python3.9/dist-packages (from yfinance) (1.1)\n",
            "Requirement already satisfied: beautifulsoup4>=4.11.1 in /usr/local/lib/python3.9/dist-packages (from yfinance) (4.11.2)\n",
            "Requirement already satisfied: cryptography>=3.3.2 in /usr/local/lib/python3.9/dist-packages (from yfinance) (40.0.1)\n",
            "Requirement already satisfied: multitasking>=0.0.7 in /usr/local/lib/python3.9/dist-packages (from yfinance) (0.0.11)\n",
            "Requirement already satisfied: pandas>=1.3.0 in /usr/local/lib/python3.9/dist-packages (from yfinance) (1.5.3)\n",
            "Requirement already satisfied: appdirs>=1.4.4 in /usr/local/lib/python3.9/dist-packages (from yfinance) (1.4.4)\n",
            "Requirement already satisfied: soupsieve>1.2 in /usr/local/lib/python3.9/dist-packages (from beautifulsoup4>=4.11.1->yfinance) (2.4)\n",
            "Requirement already satisfied: cffi>=1.12 in /usr/local/lib/python3.9/dist-packages (from cryptography>=3.3.2->yfinance) (1.15.1)\n",
            "Requirement already satisfied: six>=1.9 in /usr/local/lib/python3.9/dist-packages (from html5lib>=1.1->yfinance) (1.16.0)\n",
            "Requirement already satisfied: webencodings in /usr/local/lib/python3.9/dist-packages (from html5lib>=1.1->yfinance) (0.5.1)\n",
            "Requirement already satisfied: python-dateutil>=2.8.1 in /usr/local/lib/python3.9/dist-packages (from pandas>=1.3.0->yfinance) (2.8.2)\n",
            "Requirement already satisfied: urllib3<1.27,>=1.21.1 in /usr/local/lib/python3.9/dist-packages (from requests>=2.26->yfinance) (1.26.15)\n",
            "Requirement already satisfied: charset-normalizer~=2.0.0 in /usr/local/lib/python3.9/dist-packages (from requests>=2.26->yfinance) (2.0.12)\n",
            "Requirement already satisfied: certifi>=2017.4.17 in /usr/local/lib/python3.9/dist-packages (from requests>=2.26->yfinance) (2022.12.7)\n",
            "Requirement already satisfied: idna<4,>=2.5 in /usr/local/lib/python3.9/dist-packages (from requests>=2.26->yfinance) (3.4)\n",
            "Requirement already satisfied: pycparser in /usr/local/lib/python3.9/dist-packages (from cffi>=1.12->cryptography>=3.3.2->yfinance) (2.21)\n",
            "Looking in indexes: https://pypi.org/simple, https://us-python.pkg.dev/colab-wheels/public/simple/\n",
            "Requirement already satisfied: backtrader in /usr/local/lib/python3.9/dist-packages (1.9.76.123)\n"
          ]
        }
      ]
    },
    {
      "cell_type": "code",
      "execution_count": 2,
      "metadata": {
        "colab": {
          "base_uri": "https://localhost:8080/"
        },
        "id": "bO3HbbXteITU",
        "outputId": "d583e446-f134-4499-ea46-485d24d81672"
      },
      "outputs": [
        {
          "output_type": "stream",
          "name": "stdout",
          "text": [
            "\r[*********************100%***********************]  1 of 1 completed\n",
            "             Open   High    Low  Close  Adj Close  Volume  Moving Average\n",
            "Date                                                                     \n",
            "1980-03-17  290.0  310.0  290.0  290.0      290.0   10000             NaN\n",
            "1980-03-18  290.0  290.0  290.0  290.0      290.0       0             NaN\n",
            "1980-03-19  290.0  310.0  290.0  290.0      290.0   20000             NaN\n",
            "1980-03-20  290.0  290.0  290.0  290.0      290.0       0             NaN\n",
            "1980-03-21  290.0  290.0  290.0  290.0      290.0       0             NaN\n"
          ]
        }
      ],
      "source": [
        "import pandas as pd\n",
        "import yfinance as yf\n",
        "\n",
        "# Read financial data from a CSV file\n",
        "data = yf.download('BRK-A')\n",
        "\n",
        "# Calculate the moving average\n",
        "data['Moving Average'] = data['Close'].rolling(window=20).mean()\n",
        "\n",
        "# Show the result\n",
        "print(data.head())\n"
      ]
    },
    {
      "cell_type": "code",
      "source": [
        "import numpy as np\n",
        "\n",
        "# Generate random stock returns\n",
        "returns = np.random.normal(0.01, 0.02, 100)\n",
        "\n",
        "# Calculate the cumulative returns\n",
        "cumulative_returns = np.cumprod(1 + returns) - 1\n",
        "\n",
        "# Print the cumulative returns\n",
        "print(cumulative_returns)\n"
      ],
      "metadata": {
        "colab": {
          "base_uri": "https://localhost:8080/"
        },
        "id": "9RhEZl6MeSy9",
        "outputId": "9e0a5630-0135-4129-8f75-4db4a35fa0d3"
      },
      "execution_count": 3,
      "outputs": [
        {
          "output_type": "stream",
          "name": "stdout",
          "text": [
            "[0.02069981 0.01079947 0.07887076 0.1124814  0.11919017 0.14282598\n",
            " 0.14502608 0.15738779 0.16906489 0.17948862 0.2202017  0.19276908\n",
            " 0.20163475 0.22406922 0.18528905 0.16095084 0.17435545 0.23331114\n",
            " 0.25310556 0.23301796 0.2636003  0.32905763 0.34828297 0.3579968\n",
            " 0.33983481 0.34797068 0.39394078 0.43479645 0.48728121 0.55017562\n",
            " 0.56617223 0.61291088 0.60355039 0.64926706 0.66873486 0.67746194\n",
            " 0.72601053 0.74584455 0.71145138 0.74391029 0.72501769 0.8011949\n",
            " 0.83913904 0.83271661 0.83879588 0.84352639 0.8382458  0.91288377\n",
            " 0.93888762 0.96061708 0.94080493 0.97470531 0.99316369 1.01681593\n",
            " 1.08439794 1.0620253  1.04521169 1.06937328 1.07508973 1.07684864\n",
            " 1.06812921 1.10741943 1.17651135 1.30780002 1.35531726 1.30498111\n",
            " 1.38672942 1.4759988  1.45798093 1.50923465 1.48739279 1.53014628\n",
            " 1.60976183 1.71452176 1.70841369 1.70946395 1.7989085  1.82147661\n",
            " 1.90111266 1.99482372 2.05105967 2.06017746 1.99825143 2.11032431\n",
            " 2.16329834 2.17109193 2.22280694 2.23192222 2.34312004 2.45119616\n",
            " 2.35430519 2.16615305 2.14444541 2.18855861 2.28116046 2.42849593\n",
            " 2.38312774 2.40438234 2.36482719 2.4128238 ]\n"
          ]
        }
      ]
    },
    {
      "cell_type": "code",
      "source": [
        "import matplotlib.pyplot as plt\n",
        "\n",
        "# Plot the cumulative returns\n",
        "plt.plot(cumulative_returns)\n",
        "\n",
        "# Add title and labels\n",
        "plt.title('Cumulative Returns')\n",
        "plt.xlabel('Time')\n",
        "plt.ylabel('Returns')\n",
        "\n",
        "# Show the plot\n",
        "plt.show()\n"
      ],
      "metadata": {
        "colab": {
          "base_uri": "https://localhost:8080/",
          "height": 470
        },
        "id": "UKPmBjLFekud",
        "outputId": "fd687e3a-3240-4525-e9ff-d19c2c298fcd"
      },
      "execution_count": 4,
      "outputs": [
        {
          "output_type": "display_data",
          "data": {
            "text/plain": [
              "<Figure size 640x480 with 1 Axes>"
            ],
            "image/png": "[encoded data removed]"
          },
          "metadata": {}
        }
      ]
    },
    {
      "cell_type": "code",
      "source": [
        "import statsmodels.api as sm\n",
        "\n",
        "# Calculate daily returns\n",
        "data['Market Return'] = data['Adj Close'].pct_change()\n",
        "data['Stock Return'] = data['Adj Close'].pct_change()\n",
        "\n",
        "# Drop missing values\n",
        "data = data.dropna()\n",
        "\n",
        "# Define the independent and dependent variables\n",
        "X = data['Market Return']\n",
        "Y = data['Stock Return']\n",
        "\n",
        "# Add a constant to the independent variable\n",
        "X = sm.add_constant(X)\n",
        "\n",
        "# Fit the linear regression model\n",
        "model = sm.OLS(Y, X).fit()\n",
        "\n",
        "# Print the model summary\n",
        "print(model.summary())"
      ],
      "metadata": {
        "colab": {
          "base_uri": "https://localhost:8080/"
        },
        "id": "rSsni3j_fCVA",
        "outputId": "fcdbdf5d-a591-46b1-973f-5e21d0e9df3e"
      },
      "execution_count": 6,
      "outputs": [
        {
          "output_type": "stream",
          "name": "stdout",
          "text": [
            "                            OLS Regression Results                            \n",
            "==============================================================================\n",
            "Dep. Variable:           Stock Return   R-squared:                       1.000\n",
            "Model:                            OLS   Adj. R-squared:                  1.000\n",
            "Method:                 Least Squares   F-statistic:                 2.280e+35\n",
            "Date:                Fri, 14 Apr 2023   Prob (F-statistic):               0.00\n",
            "Time:                        16:18:49   Log-Likelihood:             4.2163e+05\n",
            "No. Observations:               10843   AIC:                        -8.433e+05\n",
            "Df Residuals:                   10841   BIC:                        -8.432e+05\n",
            "Df Model:                           1                                         \n",
            "Covariance Type:            nonrobust                                         \n",
            "=================================================================================\n",
            "                    coef    std err          t      P>|t|      [0.025      0.975]\n",
            "---------------------------------------------------------------------------------\n",
            "const          1.571e-19   3.01e-20      5.213      0.000     9.8e-20    2.16e-19\n",
            "Market Return     1.0000   2.09e-18   4.77e+17      0.000       1.000       1.000\n",
            "==============================================================================\n",
            "Omnibus:                     2538.792   Durbin-Watson:                   1.953\n",
            "Prob(Omnibus):                  0.000   Jarque-Bera (JB):            63225.426\n",
            "Skew:                           0.543   Prob(JB):                         0.00\n",
            "Kurtosis:                      14.780   Cond. No.                         69.6\n",
            "==============================================================================\n",
            "\n",
            "Notes:\n",
            "[1] Standard Errors assume that the covariance matrix of the errors is correctly specified.\n"
          ]
        }
      ]
    },
    {
      "cell_type": "code",
      "source": [
        "import backtrader as bt\n",
        "\n",
        "class MovingAverageStrategy(bt.Strategy):\n",
        "\n",
        "    def __init__(self):\n",
        "        self.ma = bt.indicators.SimpleMovingAverage(self.data.close, period=20)\n",
        "\n",
        "    def next(self):\n",
        "        if self.data.close[0] > self.ma[0]:\n",
        "            self.buy()\n",
        "        elif self.data.close[0] < self.ma[0]:\n",
        "            self.sell()\n",
        "\n",
        "# Convert the data to a backtrader format\n",
        "data = bt.feeds.PandasData(dataname=data)\n",
        "\n",
        "# Create a Cerebro instance\n",
        "cerebro = bt.Cerebro()\n",
        "\n",
        "# Set the initial cash balance\n",
        "cerebro.broker.setcash(100000.0)\n",
        "\n",
        "# Add the data feed\n",
        "cerebro.adddata(data)\n",
        "\n",
        "# Add the strategy\n",
        "cerebro.addstrategy(MovingAverageStrategy)\n",
        "\n",
        "# Add analyzers\n",
        "cerebro.addanalyzer(bt.analyzers.SharpeRatio, _name='sharpe_ratio')\n",
        "\n",
        "# Run the backtest\n",
        "results = cerebro.run()\n",
        "\n",
        "# Print the stats\n",
        "sharpe_ratio = results[0].analyzers.sharpe_ratio.get_analysis()\n",
        "final_value = cerebro.broker.getvalue()\n",
        "print('Sharpe Ratio:', sharpe_ratio)\n",
        "print('Final Value:', final_value)"
      ],
      "metadata": {
        "colab": {
          "base_uri": "https://localhost:8080/"
        },
        "id": "8VUssU7chfQa",
        "outputId": "f458cc0d-287a-4d60-c642-ff49aa7dd0c8"
      },
      "execution_count": 7,
      "outputs": [
        {
          "output_type": "stream",
          "name": "stdout",
          "text": [
            "Sharpe Ratio: OrderedDict([('sharperatio', 0.37518038014928456)])\n",
            "Final Value: 3068194.0\n"
          ]
        }
      ]
    }
  ]
}